{
 "cells": [
  {
   "cell_type": "code",
   "execution_count": 8,
   "metadata": {},
   "outputs": [],
   "source": [
    "from selenium import webdriver\n",
    "from selenium.webdriver.common.by import By\n",
    "from time import sleep\n",
    "# from selenium.webdriver.support.ui import WebDriverWait\n",
    "from selenium.webdriver.chrome.service import Service\n",
    "import os\n",
    "import json\n",
    "# from selenium.webdriver.common.keys import Keys\n",
    "# from selenium.webdriver.common.action_chains import ActionChains\n",
    "from selenium.webdriver.support.ui import WebDriverWait\n",
    "\n",
    "# Sessão de variaveis\n",
    "path_to_downloads = \"C:\\\\Users\\\\MrRobot\\\\Downloads\\\\\"\n",
    "path_to_musics = \"C:\\\\Users\\\\MrRobot\\\\Music\\\\\"\n",
    "service = Service(executable_path=\"./chromedriver.exe\")\n",
    "options = webdriver.ChromeOptions()\n",
    "user_agent = 'Mozilla/5.0 (X11; Linux x86_64) AppleWebKit/537.36 (KHTML, like Gecko) Chrome/60.0.3112.50 Safari/537.36' # se tiver \"headless\" no user_agent o site bloqueia o acesso\n",
    "options.add_argument('user-agent={0}'.format(user_agent))\n",
    "# options.add_argument('--headless')\n",
    "# options.add_argument('--no-sandbox')\n",
    "# options.add_argument('--mute-audio')\n",
    "# options.add_argument(\"user-data-dir=C:\\\\Users\\\\MrRobot\\\\AppData\\\\Local\\\\Google\\\\Chrome\\\\User Data\\\\Profile 4\") #Path to your chrome profile\n",
    "c = webdriver.Chrome(service=service, options=options)\n",
    "wdw = WebDriverWait(c, 20, 2)\n",
    "\n",
    "def pegando_urls_no_ytb(link):\n",
    "    \"\"\"crawl da playlist do youtube e retorna ela em DICT\"\"\"\n",
    "    try:\n",
    "        c.get(link)\n",
    "\n",
    "        sleep(20)\n",
    "        videos = c.find_elements(By.XPATH, \"//a[@id = 'video-title']\")\n",
    "    \n",
    "        urls = []\n",
    "        for hrefs in videos:\n",
    "            dict = {}\n",
    "            dict['title'] = hrefs.get_attribute(\"innerHTML\").replace('\\n          ', '').replace('\\n        ', '')\n",
    "            dict['url'] = hrefs.get_attribute(\"href\")\n",
    "            urls.append(dict)\n",
    "\n",
    "        print(f'total de URLs: {len(urls)}')\n",
    "        return urls\n",
    "    except:\n",
    "        return \"ERRO ao pegar URLS da playlist no Youtube.\"\n",
    "\n",
    "def automacao_only_mp3(url_msc):\n",
    "        \"\"\"Recebe uma url de um video e Faz as ações dentro do site de download\"\"\"\n",
    "        site = \"https://pt.onlymp3.to/38/\"\n",
    "        c.get(site)\n",
    "\n",
    "        search_bar = c.find_element(By.ID, \"txtUrl\")\n",
    "        search_bar.send_keys(url_msc)\n",
    "        \n",
    "        sleep(1)\n",
    "        convert_btn = c.find_element(By.CLASS_NAME, \"start-btn\")\n",
    "        convert_btn.click()\n",
    "\n",
    "        wdw.until(lambda c: c.find_element(By.XPATH, \"//button[@class='btn']\"), \"Esperando btn de download\")\n",
    "\n",
    "        print('espera acabou')\n",
    "        sleep(1)\n",
    "        download_btn = c.find_element(By.XPATH, \"//button[@class='btn']\")\n",
    "        download_btn.click()\n",
    "\n",
    "def eh_hora_de_reinciar(numero):\n",
    "    \"\"\"\n",
    "        Função que reinicia o browser a cada 10 download\n",
    "\n",
    "        obs: atrelar a mesma variável utilizada no inicio, nesse caso c = eh_hora_de_reinciar(10)\n",
    "    \"\"\"\n",
    "    mbdir = os.listdir(path_to_downloads)\n",
    "    mbdir.remove('desktop.ini')\n",
    "    print('{} músicas sendo baixadas...'.format(numero))\n",
    "\n",
    "    if numero == 1:\n",
    "        # espera\n",
    "        c.quit()\n",
    "        print('browser reiniciando')\n",
    "    else:\n",
    "        print('não é hr de reiniciar o browser')\n",
    "\n",
    "def espera_download():\n",
    "    \"\"\" Pergunta: Tem algum item em processo de download ? \"\"\"\n",
    "    sleep(3)\n",
    "    mb = os.listdir(path_to_downloads)\n",
    "    mb.remove('desktop.ini')\n",
    "    for item in mb:\n",
    "        if \".crdownload\" in item:\n",
    "            print(item)\n",
    "            return True\n",
    "    return False\n",
    "\n",
    "def downloads_suspeitos(playlist):\n",
    "    \"\"\" Retorna itens q não foram confirmados na area de download\"\"\"\n",
    "    confirmados = []\n",
    "    lista_organizada = []\n",
    "    mb = os.listdir(path_to_downloads)\n",
    "    mb.remove('desktop.ini')\n",
    "\n",
    "    for item in playlist:\n",
    "        for msc in mb:\n",
    "            if item['title'] in msc:\n",
    "                confirmados.append(item) # items confirmados\n",
    "\n",
    "    print('confimados: {}'.format(len(confirmados)))\n",
    "    for item in confirmados:\n",
    "        playlist.remove(item)\n",
    "\n",
    "    for index, item in enumerate(playlist):\n",
    "        lista_organizada.append(item['title'])\n",
    "    return playlist, lista_organizada\n",
    "\n",
    "def renomear_arquivos():\n",
    "    \"\"\"Renomeia os arquivos no diretório de downloads\"\"\"\n",
    "    mb = os.listdir(path_to_downloads)\n",
    "    mb.remove('desktop.ini')\n",
    "\n",
    "    for i in mb:\n",
    "        new_i = i.replace('onlymp3.to - ', '')\n",
    "        os.replace(path_to_downloads+i, f'{path_to_downloads}{new_i[:-35]}.mp3')\n",
    "\n",
    "def mover_arquivos():\n",
    "    \"\"\"mover os arquivos do diretório de downloads para music\"\"\"\n",
    "\n",
    "    mb = os.listdir(path_to_downloads)\n",
    "    mb.remove('desktop.ini')\n",
    "\n",
    "    for i in mb:\n",
    "        os.replace(path_to_downloads+i, f'{path_to_musics}{i}')\n",
    "\n"
   ]
  },
  {
   "cell_type": "code",
   "execution_count": 9,
   "metadata": {},
   "outputs": [
    {
     "data": {
      "text/plain": [
       "25"
      ]
     },
     "execution_count": 9,
     "metadata": {},
     "output_type": "execute_result"
    }
   ],
   "source": [
    "urls_ytb = [\n",
    "  {'title': 'Tem cabaré essa noite - Nivaldo Marques | Nattan (Clipe Oficial)',\n",
    "  'url': 'https://www.youtube.com/watch?v=WiNYFwIfg4w&list=PL1icZgrADGk480H9rtFVC6C5D5DnoMChW&index=1'},\n",
    " {'title': 'Ana Castela - Pipoco ft. @MELODY OFICIAL  e @DJ Chris no Beat (Clipe Oficial)',\n",
    "  'url': 'https://www.youtube.com/watch?v=69JAoslGYI8&list=PL1icZgrADGk480H9rtFVC6C5D5DnoMChW&index=2'},\n",
    " {'title': 'Jesslee x @Justin Champagne x @Ryan Robinette - Chillbilly (Official Music Video)',\n",
    "  'url': 'https://www.youtube.com/watch?v=ExC8xLA3cZM&list=PL1icZgrADGk480H9rtFVC6C5D5DnoMChW&index=3'},\n",
    " {'title': 'Bailey Zimmerman - Fall In Love (Official Music Video)',\n",
    "  'url': 'https://www.youtube.com/watch?v=d1yKrnPHAmo&list=PL1icZgrADGk480H9rtFVC6C5D5DnoMChW&index=4'},\n",
    " {'title': 'Wesley Safadão - Amor ou Esquema - Garota Vip Manaus',\n",
    "  'url': 'https://www.youtube.com/watch?v=XdyRZrVYTEc&list=PL1icZgrADGk480H9rtFVC6C5D5DnoMChW&index=5'},\n",
    " {'title': 'MC Paiva e MC Ryan SP - Casei Com a Putaria (Love Funk) Kotim',\n",
    "  'url': 'https://www.youtube.com/watch?v=8NjXVsLHIg8&list=PL1icZgrADGk480H9rtFVC6C5D5DnoMChW&index=6'},\n",
    " {'title': 'FREAK ON - We Got The Fire',\n",
    "  'url': 'https://www.youtube.com/watch?v=nlD3zta1bnE&list=PL1icZgrADGk480H9rtFVC6C5D5DnoMChW&index=7'},\n",
    " {'title': 'Gusttavo Lima - Fala Mal de Mim (Ao Vivo em Maceió)',\n",
    "  'url': 'https://www.youtube.com/watch?v=hOGuaMazCz8&list=PL1icZgrADGk480H9rtFVC6C5D5DnoMChW&index=8'},\n",
    " {'title': 'Cole Swindell - She Had Me At Heads Carolina (Official Music Video)',\n",
    "  'url': 'https://www.youtube.com/watch?v=pW98g-Fb-EU&list=PL1icZgrADGk480H9rtFVC6C5D5DnoMChW&index=9'},\n",
    " {'title': 'L7NNON &amp; BIEL DO FURDUNCINHO - Ai Preto 🤤 (part. Bianca)',\n",
    "  'url': 'https://www.youtube.com/watch?v=NbB6qMA2lts&list=PL1icZgrADGk480H9rtFVC6C5D5DnoMChW&index=10'},\n",
    " {'title': 'Lamorn - Who We Are (Official Music Video)',\n",
    "  'url': 'https://www.youtube.com/watch?v=XJOkM2RvjQ4&list=PL1icZgrADGk480H9rtFVC6C5D5DnoMChW&index=11'},\n",
    " {'title': 'Gusttavo Lima - Termina Comigo Antes  (Ao Vivo em Porto Alegre)',\n",
    "  'url': 'https://www.youtube.com/watch?v=rTJSWmgbVwA&list=PL1icZgrADGk480H9rtFVC6C5D5DnoMChW&index=12'},\n",
    " {'title': 'FULLJOS - Monotonia',\n",
    "  'url': 'https://www.youtube.com/watch?v=F1ahwvpRMTY&list=PL1icZgrADGk480H9rtFVC6C5D5DnoMChW&index=13'},\n",
    " {'title': 'Guilherme e Benuto feat @Hugo e Guilherme  - Haja Colírio | DVD Deu Rolo',\n",
    "  'url': 'https://www.youtube.com/watch?v=qjxNM9qF3LA&list=PL1icZgrADGk480H9rtFVC6C5D5DnoMChW&index=14'},\n",
    " {'title': 'Mari Fernandez - COMUNICAÇÃO FALHOU feat. Nattan (DVD Ao Vivo em Fortaleza)',\n",
    "  'url': 'https://www.youtube.com/watch?v=psdZRggL7cI&list=PL1icZgrADGk480H9rtFVC6C5D5DnoMChW&index=15'},\n",
    " {'title': 'Blake Shelton - No Body (Official Music Video)',\n",
    "  'url': 'https://www.youtube.com/watch?v=JDhDy9rPpiE&list=PL1icZgrADGk480H9rtFVC6C5D5DnoMChW&index=16'},\n",
    " {'title': 'Kevi Jonny - Te Love (DVD Com Amor, Kevi Jonny)',\n",
    "  'url': 'https://www.youtube.com/watch?v=vBQbH4mA_z0&list=PL1icZgrADGk480H9rtFVC6C5D5DnoMChW&index=17'},\n",
    " {'title': 'Colton James \"I Miss America\" Official Lyric Video',\n",
    "  'url': 'https://www.youtube.com/watch?v=2vuhKROJQ3c&list=PL1icZgrADGk480H9rtFVC6C5D5DnoMChW&index=18'},\n",
    " {'title': 'Ingrid Andress - Feel Like This (Official Music Video)',\n",
    "  'url': 'https://www.youtube.com/watch?v=0PeaTboS3_8&list=PL1icZgrADGk480H9rtFVC6C5D5DnoMChW&index=19'},\n",
    " {'title': 'Hugo e Guilherme, Marília Mendonça - Mal Feito - DVD Próximo Passo',\n",
    "  'url': 'https://www.youtube.com/watch?v=kyfXEMqvLgU&list=PL1icZgrADGk480H9rtFVC6C5D5DnoMChW&index=20'},\n",
    " {'title': 'Ingrid Andress - Wishful Drinking (With Sam Hunt) (Official Music Video)',\n",
    "  'url': 'https://www.youtube.com/watch?v=lE5WYXtOt7E&list=PL1icZgrADGk480H9rtFVC6C5D5DnoMChW&index=21'},\n",
    " {'title': 'Zak Meow   Acid Damage VISUALIZER',\n",
    "  'url': 'https://www.youtube.com/watch?v=hTXBckKHVJ0&list=PL1icZgrADGk480H9rtFVC6C5D5DnoMChW&index=22'},\n",
    " {'title': 'SET Tatuapé Conceito 2 - Ryan SP, Kako, Joãozinho VT, Marks, GP e MC Erik (GR6 Explode) DJ Boy e GM',\n",
    "  'url': 'https://www.youtube.com/watch?v=nbTAKkjnV_Q&list=PL1icZgrADGk480H9rtFVC6C5D5DnoMChW&index=23'},\n",
    " {'title': 'Gabby Barrett - Pick Me Up (Official Music Video)',\n",
    "  'url': 'https://www.youtube.com/watch?v=0qG4chf4fLI&list=PL1icZgrADGk480H9rtFVC6C5D5DnoMChW&index=24'},\n",
    " {'title': 'Felipe Amorim - Gostosinha É Ela (Clipe Oficial)',\n",
    "  'url': 'https://www.youtube.com/watch?v=zSRjeUpQUwI&list=PL1icZgrADGk480H9rtFVC6C5D5DnoMChW&index=25'}\n",
    "]\n",
    "\n",
    "len(urls_ytb)"
   ]
  },
  {
   "cell_type": "markdown",
   "metadata": {},
   "source": [
    "Processo de execução"
   ]
  },
  {
   "cell_type": "code",
   "execution_count": 10,
   "metadata": {},
   "outputs": [
    {
     "name": "stdout",
     "output_type": "stream",
     "text": [
      "total de URLs: 5\n",
      "espera acabou\n",
      "1\n",
      "espera acabou\n",
      "2\n",
      "espera acabou\n",
      "3\n",
      "espera acabou\n",
      "4\n",
      "espera acabou\n",
      "5\n",
      "onlymp3.to - Guilherme e Benuto - 3 Batidas (DVD AMANDO BEBENDO E SOFRENDO)-RJNrSvFMHxs-192k-1654265385990.mp3.crdownload\n",
      "onlymp3.to - Guilherme e Benuto - 3 Batidas (DVD AMANDO BEBENDO E SOFRENDO)-RJNrSvFMHxs-192k-1654265385990.mp3.crdownload\n"
     ]
    }
   ],
   "source": [
    "link = 'https://www.youtube.com/playlist?list=PL1icZgrADGk480H9rtFVC6C5D5DnoMChW'\n",
    "urls_ytb = pegando_urls_no_ytb(link)\n",
    "contador = 0\n",
    "for msc in urls_ytb:\n",
    "    contador += 1\n",
    "    automacao_only_mp3(msc['url'])\n",
    "    dez_msc = contador % 10\n",
    "\n",
    "    if dez_msc == 0:\n",
    "        while espera_download() == True:\n",
    "            sleep(3)\n",
    "        c.quit()\n",
    "        c = webdriver.Chrome(service=service, options=options)\n",
    "        wdw = WebDriverWait(c, 20, 2)\n",
    "    \n",
    "    print(contador)\n",
    "\n",
    "while espera_download() == True:\n",
    "    sleep(3)\n",
    "c.quit()"
   ]
  },
  {
   "cell_type": "code",
   "execution_count": 11,
   "metadata": {},
   "outputs": [
    {
     "name": "stdout",
     "output_type": "stream",
     "text": [
      "confimados: 3\n"
     ]
    },
    {
     "data": {
      "text/plain": [
       "['Guilherme e Benuto feat @Hugo e Guilherme  - Haja Colírio | DVD Deu Rolo',\n",
       " 'Jorge &amp; Mateus - Então Valeu (Clipe Oficial) [É Simples Assim]']"
      ]
     },
     "execution_count": 11,
     "metadata": {},
     "output_type": "execute_result"
    }
   ],
   "source": [
    "\n",
    "renomear_arquivos()\n",
    "urls_ytb2 = urls_ytb.copy()\n",
    "suspeitos = downloads_suspeitos(urls_ytb2)\n",
    "sorted(suspeitos[1]) # Lista possíveis falhas"
   ]
  },
  {
   "cell_type": "code",
   "execution_count": 12,
   "metadata": {},
   "outputs": [
    {
     "data": {
      "text/plain": [
       "[{'title': 'Guilherme e Benuto feat @Hugo e Guilherme  - Haja Colírio | DVD Deu Rolo',\n",
       "  'url': 'https://www.youtube.com/watch?v=qjxNM9qF3LA&list=PLB5S3eu0mZof9705EtpG8SeFACN2itGRP&index=1'},\n",
       " {'title': 'Jorge &amp; Mateus - Então Valeu (Clipe Oficial) [É Simples Assim]',\n",
       "  'url': 'https://www.youtube.com/watch?v=z-XxedqPsqg&list=PLB5S3eu0mZof9705EtpG8SeFACN2itGRP&index=4'}]"
      ]
     },
     "execution_count": 12,
     "metadata": {},
     "output_type": "execute_result"
    }
   ],
   "source": [
    "suspeitos[0] # ache as urls q falharam e faça manualmente"
   ]
  },
  {
   "cell_type": "code",
   "execution_count": 13,
   "metadata": {},
   "outputs": [],
   "source": [
    "mover_arquivos() "
   ]
  },
  {
   "cell_type": "code",
   "execution_count": 14,
   "metadata": {},
   "outputs": [
    {
     "data": {
      "text/plain": [
       "'https://pt.onlymp3.to/38/'"
      ]
     },
     "execution_count": 14,
     "metadata": {},
     "output_type": "execute_result"
    }
   ],
   "source": [
    "# Faça download manual dos arquivos q 'falharam' em:\n",
    "\"https://pt.onlymp3.to/38/\"\n",
    "# renomear_arquivos\n",
    "# mover_arquivos() "
   ]
  }
 ],
 "metadata": {
  "kernelspec": {
   "display_name": "Python 3.8.2 ('venv': venv)",
   "language": "python",
   "name": "python3"
  },
  "language_info": {
   "codemirror_mode": {
    "name": "ipython",
    "version": 3
   },
   "file_extension": ".py",
   "mimetype": "text/x-python",
   "name": "python",
   "nbconvert_exporter": "python",
   "pygments_lexer": "ipython3",
   "version": "3.8.2"
  },
  "orig_nbformat": 4,
  "vscode": {
   "interpreter": {
    "hash": "fbe4063e5c4a57d3a0c435ca50b55f2b279f0d06f5031082bf38397592328bcb"
   }
  }
 },
 "nbformat": 4,
 "nbformat_minor": 2
}
