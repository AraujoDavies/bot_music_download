{
 "cells": [
  {
   "cell_type": "code",
   "execution_count": 1,
   "metadata": {},
   "outputs": [],
   "source": [
    "from selenium import webdriver\n",
    "from selenium.webdriver.common.by import By\n",
    "from time import sleep\n",
    "# from selenium.webdriver.support.ui import WebDriverWait\n",
    "from selenium.webdriver.chrome.service import Service\n",
    "import os\n",
    "import json\n",
    "# from selenium.webdriver.common.keys import Keys\n",
    "# from selenium.webdriver.common.action_chains import ActionChains\n",
    "from selenium.webdriver.support.ui import WebDriverWait\n",
    "\n",
    "# Sessão de variaveis\n",
    "path_to_downloads = \"C:\\\\Users\\\\MrRobot\\\\Downloads\\\\music_download\\\\\"\n",
    "path_to_musics = \"C:\\\\Users\\\\MrRobot\\\\Music\\\\\"\n",
    "service = Service(executable_path=\"../chromedriver.exe\")\n",
    "options = webdriver.ChromeOptions()\n",
    "user_agent = 'Mozilla/5.0 (X11; Linux x86_64) AppleWebKit/537.36 (KHTML, like Gecko) Chrome/60.0.3112.50 Safari/537.36' # se tiver \"headless\" no user_agent o site bloqueia o acesso\n",
    "options.add_argument('user-agent={0}'.format(user_agent))\n",
    "options.add_argument('--headless')\n",
    "options.add_argument('--no-sandbox')\n",
    "options.add_argument('--mute-audio')\n",
    "# options.add_argument(\"user-data-dir=C:\\\\Users\\\\MrRobot\\\\AppData\\\\Local\\\\Google\\\\Chrome\\\\User Data\\\\Profile 4\") #Path to your chrome profile\n",
    "prefs = {\"download.default_directory\" : path_to_downloads}\n",
    "options.add_experimental_option(\"prefs\",prefs)\n",
    "c = webdriver.Chrome(service=service, options=options)\n",
    "wdw = WebDriverWait(c, 40, 2)\n",
    "\n",
    "def pegando_urls_no_ytb(link):\n",
    "    \"\"\"crawl da playlist do youtube e retorna ela em DICT\"\"\"\n",
    "    try:\n",
    "        c.get(link)\n",
    "\n",
    "        # sleep(20)\n",
    "        videos = c.find_elements(By.XPATH, \"//a[@id = 'video-title']\")\n",
    "    \n",
    "        urls = []\n",
    "        for hrefs in videos:\n",
    "            dict = {}\n",
    "            dict['title'] = hrefs.get_attribute(\"innerHTML\").replace('\\n          ', '').replace('\\n        ', '')\n",
    "            dict['url'] = hrefs.get_attribute(\"href\")\n",
    "            urls.append(dict)\n",
    "\n",
    "        print(f'total de URLs: {len(urls)}')\n",
    "        return urls\n",
    "    except:\n",
    "        return \"ERRO ao pegar URLS da playlist no Youtube.\"\n",
    "\n",
    "def automacao_only_mp3(url_msc):\n",
    "        \"\"\"Recebe uma url de um video e Faz as ações dentro do site de download\"\"\"\n",
    "        site = \"https://pt.onlymp3.to/38/\"\n",
    "        c.get(site)\n",
    "\n",
    "        search_bar = c.find_element(By.ID, \"txtUrl\")\n",
    "        search_bar.send_keys(url_msc)\n",
    "        \n",
    "        sleep(1)\n",
    "        convert_btn = c.find_element(By.CLASS_NAME, \"start-btn\")\n",
    "        convert_btn.click()\n",
    "\n",
    "        wdw.until(lambda c: c.find_element(By.XPATH, \"//button[@class='btn']\"), \"Esperando btn de download\")\n",
    "\n",
    "        sleep(1)\n",
    "        download_btn = c.find_element(By.XPATH, \"//button[@class='btn']\")\n",
    "        download_btn.click()\n",
    "        print('espera acabou')\n",
    "        sleep(2)\n",
    "\n",
    "def espera_download():\n",
    "    \"\"\" Pergunta: Tem algum item em processo de download ou o diretório está vázio ? \"\"\"\n",
    "    sleep(3)\n",
    "    mb = os.listdir(path_to_downloads)\n",
    "          \n",
    "    for item in mb:\n",
    "        if item == 'desktop.ini':\n",
    "            mb.remove('desktop.ini')\n",
    "        if \".crdownload\" in item:\n",
    "            # Se tiver item em download \n",
    "            # print(item)\n",
    "            return True\n",
    "\n",
    "    if len(mb) == 0: #se diretório está vazio\n",
    "        return True\n",
    "        \n",
    "    print(mb)\n",
    "    return False\n",
    "\n",
    "def renomear_arquivos():\n",
    "    \"\"\"Renomeia os arquivos no diretório de downloads\"\"\"\n",
    "    mb = os.listdir(path_to_downloads)\n",
    "\n",
    "    for i in mb:\n",
    "        if i == 'desktop.ini':\n",
    "            mb.remove('desktop.ini')\n",
    "        new_i = i.replace('onlymp3.to - ', '')\n",
    "        os.replace(path_to_downloads+i, f'{path_to_downloads}{new_i[:-35]}.mp3')\n",
    "\n",
    "def mover_arquivos():\n",
    "    \"\"\"mover os arquivos do diretório de downloads para music\"\"\"\n",
    "\n",
    "    mb = os.listdir(path_to_downloads)\n",
    "\n",
    "    for i in mb:\n",
    "        if i == 'desktop.ini':\n",
    "            mb.remove('desktop.ini')\n",
    "        os.replace(path_to_downloads+i, f'{path_to_musics}{i}')\n",
    "\n",
    "def download_404():\n",
    "    \"\"\"\n",
    "        Pergunta: ao clicar em download foi redirecionado para uma página de 404 ?\n",
    "    \"\"\"\n",
    "    try:\n",
    "        pagina_404 = c.find_element(By.XPATH, '//body[@id = \"t\"]')\n",
    "        if bool(pagina_404):\n",
    "            return True\n",
    "    except:\n",
    "        return False"
   ]
  },
  {
   "cell_type": "code",
   "execution_count": 10,
   "metadata": {},
   "outputs": [
    {
     "name": "stdout",
     "output_type": "stream",
     "text": [
      "Não precisará fazer scrapy no ytb... Qt de Urls: 1\n",
      "iniciando a 1° Tentativa\n",
      "espera acabou\n",
      "Esperando o download terminar...\n",
      "Esperando o download terminar...\n",
      "['onlymp3.to - Jorge & Mateus - 5 Regras (Clipe Oficial) [É Simples Assim]-VFWKrXxJEdM-192k-1654562942741.mp3']\n",
      "Download concluído: Jorge &amp; Mateus - 5 Regras (Clipe Oficial) [É Simples Assim]\n",
      "Tentativa: 1. Número de itens para ser baixados: 0\n"
     ]
    }
   ],
   "source": [
    "# PROCESSO DE EXECUÇÃO:\n",
    "link_playlist_ytb = 'https://www.youtube.com/playlist?list=PLB5S3eu0mZof9705EtpG8SeFACN2itGRP'\n",
    "\n",
    "if 'urls_ytb' in globals(): # se a variavel já foi declarada...\n",
    "    if len(urls_ytb) > 0:\n",
    "        print(f'Não precisará fazer scrapy no ytb... Qt de Urls: {len(urls_ytb)}')\n",
    "    else: # senão tem itens na lista...\n",
    "        urls_ytb = pegando_urls_no_ytb(link_playlist_ytb)\n",
    "else: # senão foi declarada a variavel\n",
    "    urls_ytb = pegando_urls_no_ytb(link_playlist_ytb)\n",
    "\n",
    "contador = 0\n",
    "tentativas_download = 1\n",
    "bad_request_404 = []\n",
    "tomaram_timeout = []\n",
    "while bool(urls_ytb) and tentativas_download < 5: # vai tentar 4x enquanto ter item na lista\n",
    "    print(f'iniciando a {tentativas_download}° Tentativa')\n",
    "    tentativas_download += 1\n",
    "    for msc in urls_ytb:\n",
    "        try:\n",
    "            automacao_only_mp3(msc['url'])\n",
    "            # Enquanto espera download... \n",
    "            timeout = 0\n",
    "            while espera_download():\n",
    "                timeout += 1\n",
    "                sucesso_no_download = True\n",
    "                print('Esperando o download terminar...') #ajuda a debugar :D\n",
    "                if download_404():\n",
    "                    # Quando der 404 ele pula pra próx musica\n",
    "                    print(f'Problema de servidor na música {msc[\"title\"]}')\n",
    "                    if msc not in bad_request_404:\n",
    "                        bad_request_404.append(msc)\n",
    "                    sucesso_no_download = False\n",
    "                    break\n",
    "                if timeout > 30:\n",
    "                    # Vai dar timeout se nao fizer o download em X segundos\n",
    "                    sucesso_no_download = False\n",
    "                    tomaram_timeout.append(msc)\n",
    "                    print(f'TIMEOUT na música {msc[\"title\"]}')\n",
    "                    break\n",
    "                sleep(2) # vezes a quantidade timeout = 60 segundos\n",
    "\n",
    "            if sucesso_no_download:\n",
    "                urls_ytb.remove(msc)\n",
    "                renomear_arquivos()\n",
    "                mover_arquivos()\n",
    "                print(f\"Download concluído: {msc['title']}\")\n",
    "                            \n",
    "            contador += 1\n",
    "            # Reiniciar browser quando quantidade de downloads for um divisor de 10\n",
    "            dez_msc = contador % 5\n",
    "            if dez_msc == 0 and contador != 0:\n",
    "                print('reiniciando browser...')\n",
    "                c.quit()\n",
    "                c = webdriver.Chrome(service=service, options=options)\n",
    "                wdw = WebDriverWait(c, 20, 2)\n",
    "\n",
    "            print(f'Tentativa: {contador}. Número de itens para ser baixados: {len(urls_ytb)}')\n",
    "        except:\n",
    "            print(f'Erro na música: {msc[\"title\"]}')\n",
    "    "
   ]
  },
  {
   "cell_type": "code",
   "execution_count": 11,
   "metadata": {},
   "outputs": [
    {
     "data": {
      "text/plain": [
       "False"
      ]
     },
     "execution_count": 11,
     "metadata": {},
     "output_type": "execute_result"
    }
   ],
   "source": [
    "bool(urls_ytb)"
   ]
  },
  {
   "cell_type": "code",
   "execution_count": 12,
   "metadata": {},
   "outputs": [
    {
     "name": "stdout",
     "output_type": "stream",
     "text": [
      "urls q não foram baixadas:\n"
     ]
    },
    {
     "data": {
      "text/plain": [
       "[]"
      ]
     },
     "execution_count": 12,
     "metadata": {},
     "output_type": "execute_result"
    }
   ],
   "source": [
    "print('urls q não foram baixadas:')\n",
    "urls_ytb"
   ]
  },
  {
   "cell_type": "code",
   "execution_count": 13,
   "metadata": {},
   "outputs": [
    {
     "name": "stdout",
     "output_type": "stream",
     "text": [
      "Falha na requisição: \n"
     ]
    },
    {
     "data": {
      "text/plain": [
       "[]"
      ]
     },
     "execution_count": 13,
     "metadata": {},
     "output_type": "execute_result"
    }
   ],
   "source": [
    "print('Falha na requisição: ')\n",
    "bad_request_404"
   ]
  },
  {
   "cell_type": "code",
   "execution_count": 14,
   "metadata": {},
   "outputs": [
    {
     "name": "stdout",
     "output_type": "stream",
     "text": [
      "timeout:\n"
     ]
    },
    {
     "data": {
      "text/plain": [
       "[]"
      ]
     },
     "execution_count": 14,
     "metadata": {},
     "output_type": "execute_result"
    }
   ],
   "source": [
    "print('timeout:')\n",
    "tomaram_timeout"
   ]
  },
  {
   "cell_type": "code",
   "execution_count": 15,
   "metadata": {},
   "outputs": [],
   "source": [
    "if bool(urls_ytb):\n",
    "    print('há itens para ser baixado')\n",
    "else:\n",
    "    c.quit()"
   ]
  }
 ],
 "metadata": {
  "kernelspec": {
   "display_name": "Python 3.8.2 ('venv': venv)",
   "language": "python",
   "name": "python3"
  },
  "language_info": {
   "codemirror_mode": {
    "name": "ipython",
    "version": 3
   },
   "file_extension": ".py",
   "mimetype": "text/x-python",
   "name": "python",
   "nbconvert_exporter": "python",
   "pygments_lexer": "ipython3",
   "version": "3.8.2"
  },
  "orig_nbformat": 4,
  "vscode": {
   "interpreter": {
    "hash": "f4e98bd268262d9255556d5adb1fe778132223ae9e8984b79daa6ebb25d47fe5"
   }
  }
 },
 "nbformat": 4,
 "nbformat_minor": 2
}
